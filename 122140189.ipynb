{
 "cells": [
  {
   "cell_type": "markdown",
   "id": "ab242341",
   "metadata": {},
   "source": [
    "# Tugas 1 - Sinyal Respirasi dan Post-Processing\n",
    "\n",
    "Berdasarkan apa yang telah kita coba mengenai metode pengambilan sinyal respirasi menggunakan mediapipe. Menggunakan video yang kalian ambil masing-masing pada tahap Pre-requisite modul ini. Lakukan proses pengambilan sinyal respirasi dan juga post-processingnya dalam menentukan laju pernafasan per menit.\n",
    "\n",
    "Kamu sudah belajar banyak mengenai metode deteksi wajah dan pose menggunakan Mediapipe, serta bagaimana cara menghitung sinyal rPPG dan sinyal pernapasan menggunakan Optical Flow. Untuk tugas Hands-on ini cukup _sederhana_ saja.\n",
    "\n",
    "1. \n",
    "2. Kita menggunakan banyak metode dalam melakukan proses pengambilan sinyal pernafasan ini seperti apa itu Lucas-Kanade Optical Flow, tetapi kita tidak cukup detail dalam membahasnya kali ini. Anggap diri kamu sebagai periset independen, lakukan riset mandiri dan jelaskan konsep-konsep dan step yang kamu gunakan sampai kamu bisa mendapatkan laju pernafasan pada video kamu, dan jangan lupa untuk membandingkan hasil data dari video kamu dengan metode ini. "
   ]
  }
 ],
 "metadata": {
  "language_info": {
   "name": "python"
  }
 },
 "nbformat": 4,
 "nbformat_minor": 5
}
